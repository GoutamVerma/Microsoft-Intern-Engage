{
 "cells": [
  {
   "cell_type": "code",
   "execution_count": 37,
   "id": "507d0a54",
   "metadata": {},
   "outputs": [],
   "source": [
    "import sqlite3\n",
    "import pandas as pd\n",
    "import sqlalchemy\n",
    "import pickle"
   ]
  },
  {
   "cell_type": "code",
   "execution_count": 38,
   "id": "1aa4aa05",
   "metadata": {},
   "outputs": [],
   "source": [
    "engine = sqlalchemy.create_engine('sqlite:///MicrosoftInternEngage.db')"
   ]
  },
  {
   "cell_type": "code",
   "execution_count": 41,
   "id": "ee006dff",
   "metadata": {},
   "outputs": [],
   "source": [
    "def index():\n",
    "    L=[]\n",
    "    for i in range(0,4808):\n",
    "       L.append(i)\n",
    "    return L"
   ]
  },
  {
   "cell_type": "code",
   "execution_count": 39,
   "id": "5425b8f3",
   "metadata": {},
   "outputs": [],
   "source": [
    "select = pickle.load(open('./model/data/select.pkl', 'rb'))"
   ]
  },
  {
   "cell_type": "code",
   "execution_count": 40,
   "id": "af505a5c",
   "metadata": {},
   "outputs": [],
   "source": [
    "select = pd.DataFrame(dataset, columns= ['movie_id','title','genres','cast','popularity'])"
   ]
  },
  {
   "cell_type": "code",
   "execution_count": 42,
   "id": "68c1ae13",
   "metadata": {},
   "outputs": [],
   "source": [
    "select.insert(0, 'index', L)"
   ]
  },
  {
   "cell_type": "code",
   "execution_count": 43,
   "id": "2d032376",
   "metadata": {},
   "outputs": [],
   "source": [
    "select['genres'] = select['genres'].apply(lambda x: \"$\".join(x))"
   ]
  },
  {
   "cell_type": "code",
   "execution_count": 44,
   "id": "8d1cdf93",
   "metadata": {},
   "outputs": [],
   "source": [
    "select['cast'] = select['cast'].apply(lambda x: \"$\".join(x))"
   ]
  },
  {
   "cell_type": "code",
   "execution_count": 45,
   "id": "32162403",
   "metadata": {},
   "outputs": [
    {
     "data": {
      "text/html": [
       "<div>\n",
       "<style scoped>\n",
       "    .dataframe tbody tr th:only-of-type {\n",
       "        vertical-align: middle;\n",
       "    }\n",
       "\n",
       "    .dataframe tbody tr th {\n",
       "        vertical-align: top;\n",
       "    }\n",
       "\n",
       "    .dataframe thead th {\n",
       "        text-align: right;\n",
       "    }\n",
       "</style>\n",
       "<table border=\"1\" class=\"dataframe\">\n",
       "  <thead>\n",
       "    <tr style=\"text-align: right;\">\n",
       "      <th></th>\n",
       "      <th>index</th>\n",
       "      <th>movie_id</th>\n",
       "      <th>title</th>\n",
       "      <th>genres</th>\n",
       "      <th>cast</th>\n",
       "      <th>popularity</th>\n",
       "    </tr>\n",
       "  </thead>\n",
       "  <tbody>\n",
       "    <tr>\n",
       "      <th>0</th>\n",
       "      <td>0</td>\n",
       "      <td>19995</td>\n",
       "      <td>Avatar</td>\n",
       "      <td>Action$Adventure$Fantasy$Science Fiction</td>\n",
       "      <td>Sam Worthington$Zoe Saldana$Sigourney Weaver$S...</td>\n",
       "      <td>150.437577</td>\n",
       "    </tr>\n",
       "    <tr>\n",
       "      <th>1</th>\n",
       "      <td>1</td>\n",
       "      <td>285</td>\n",
       "      <td>Pirates of the Caribbean: At World's End</td>\n",
       "      <td>Adventure$Fantasy$Action</td>\n",
       "      <td>Johnny Depp$Orlando Bloom$Keira Knightley$Stel...</td>\n",
       "      <td>139.082615</td>\n",
       "    </tr>\n",
       "    <tr>\n",
       "      <th>2</th>\n",
       "      <td>2</td>\n",
       "      <td>206647</td>\n",
       "      <td>Spectre</td>\n",
       "      <td>Action$Adventure$Crime</td>\n",
       "      <td>Daniel Craig$Christoph Waltz$Léa Seydoux$Ralph...</td>\n",
       "      <td>107.376788</td>\n",
       "    </tr>\n",
       "    <tr>\n",
       "      <th>3</th>\n",
       "      <td>3</td>\n",
       "      <td>49026</td>\n",
       "      <td>The Dark Knight Rises</td>\n",
       "      <td>Action$Crime$Drama$Thriller</td>\n",
       "      <td>Christian Bale$Michael Caine$Gary Oldman$Anne ...</td>\n",
       "      <td>112.312950</td>\n",
       "    </tr>\n",
       "    <tr>\n",
       "      <th>4</th>\n",
       "      <td>4</td>\n",
       "      <td>49529</td>\n",
       "      <td>John Carter</td>\n",
       "      <td>Action$Adventure$Science Fiction</td>\n",
       "      <td>Taylor Kitsch$Lynn Collins$Samantha Morton$Wil...</td>\n",
       "      <td>43.926995</td>\n",
       "    </tr>\n",
       "  </tbody>\n",
       "</table>\n",
       "</div>"
      ],
      "text/plain": [
       "   index  movie_id                                     title  \\\n",
       "0      0     19995                                    Avatar   \n",
       "1      1       285  Pirates of the Caribbean: At World's End   \n",
       "2      2    206647                                   Spectre   \n",
       "3      3     49026                     The Dark Knight Rises   \n",
       "4      4     49529                               John Carter   \n",
       "\n",
       "                                     genres  \\\n",
       "0  Action$Adventure$Fantasy$Science Fiction   \n",
       "1                  Adventure$Fantasy$Action   \n",
       "2                    Action$Adventure$Crime   \n",
       "3               Action$Crime$Drama$Thriller   \n",
       "4          Action$Adventure$Science Fiction   \n",
       "\n",
       "                                                cast  popularity  \n",
       "0  Sam Worthington$Zoe Saldana$Sigourney Weaver$S...  150.437577  \n",
       "1  Johnny Depp$Orlando Bloom$Keira Knightley$Stel...  139.082615  \n",
       "2  Daniel Craig$Christoph Waltz$Léa Seydoux$Ralph...  107.376788  \n",
       "3  Christian Bale$Michael Caine$Gary Oldman$Anne ...  112.312950  \n",
       "4  Taylor Kitsch$Lynn Collins$Samantha Morton$Wil...   43.926995  "
      ]
     },
     "execution_count": 45,
     "metadata": {},
     "output_type": "execute_result"
    }
   ],
   "source": [
    "select.head()"
   ]
  },
  {
   "cell_type": "code",
   "execution_count": 46,
   "id": "5f0c3236",
   "metadata": {},
   "outputs": [
    {
     "data": {
      "text/plain": [
       "4808"
      ]
     },
     "execution_count": 46,
     "metadata": {},
     "output_type": "execute_result"
    }
   ],
   "source": [
    "select.to_sql('select', engine)"
   ]
  },
  {
   "cell_type": "code",
   "execution_count": 47,
   "id": "f9fe5995",
   "metadata": {},
   "outputs": [],
   "source": [
    "popular = pickle.load(open('./model/data/popular.pkl', 'rb'))"
   ]
  },
  {
   "cell_type": "code",
   "execution_count": 49,
   "id": "0f3b2309",
   "metadata": {},
   "outputs": [],
   "source": [
    "popular = pd.DataFrame(dataset, columns= ['movie_id','title','genres','release_date','popularity'])"
   ]
  },
  {
   "cell_type": "code",
   "execution_count": 50,
   "id": "fe130205",
   "metadata": {},
   "outputs": [],
   "source": [
    "popular.insert(0, 'index', L)"
   ]
  },
  {
   "cell_type": "code",
   "execution_count": 51,
   "id": "217c20b5",
   "metadata": {},
   "outputs": [],
   "source": [
    "popular['genres'] = popular['genres'].apply(lambda x: \"$\".join(x))"
   ]
  },
  {
   "cell_type": "code",
   "execution_count": 52,
   "id": "97a724f4",
   "metadata": {},
   "outputs": [
    {
     "data": {
      "text/html": [
       "<div>\n",
       "<style scoped>\n",
       "    .dataframe tbody tr th:only-of-type {\n",
       "        vertical-align: middle;\n",
       "    }\n",
       "\n",
       "    .dataframe tbody tr th {\n",
       "        vertical-align: top;\n",
       "    }\n",
       "\n",
       "    .dataframe thead th {\n",
       "        text-align: right;\n",
       "    }\n",
       "</style>\n",
       "<table border=\"1\" class=\"dataframe\">\n",
       "  <thead>\n",
       "    <tr style=\"text-align: right;\">\n",
       "      <th></th>\n",
       "      <th>index</th>\n",
       "      <th>movie_id</th>\n",
       "      <th>title</th>\n",
       "      <th>genres</th>\n",
       "      <th>release_date</th>\n",
       "      <th>popularity</th>\n",
       "    </tr>\n",
       "  </thead>\n",
       "  <tbody>\n",
       "    <tr>\n",
       "      <th>0</th>\n",
       "      <td>0</td>\n",
       "      <td>19995</td>\n",
       "      <td>Avatar</td>\n",
       "      <td>Action$Adventure$Fantasy$Science Fiction</td>\n",
       "      <td>2009</td>\n",
       "      <td>150.437577</td>\n",
       "    </tr>\n",
       "    <tr>\n",
       "      <th>1</th>\n",
       "      <td>1</td>\n",
       "      <td>285</td>\n",
       "      <td>Pirates of the Caribbean: At World's End</td>\n",
       "      <td>Adventure$Fantasy$Action</td>\n",
       "      <td>2007</td>\n",
       "      <td>139.082615</td>\n",
       "    </tr>\n",
       "    <tr>\n",
       "      <th>2</th>\n",
       "      <td>2</td>\n",
       "      <td>206647</td>\n",
       "      <td>Spectre</td>\n",
       "      <td>Action$Adventure$Crime</td>\n",
       "      <td>2015</td>\n",
       "      <td>107.376788</td>\n",
       "    </tr>\n",
       "    <tr>\n",
       "      <th>3</th>\n",
       "      <td>3</td>\n",
       "      <td>49026</td>\n",
       "      <td>The Dark Knight Rises</td>\n",
       "      <td>Action$Crime$Drama$Thriller</td>\n",
       "      <td>2012</td>\n",
       "      <td>112.312950</td>\n",
       "    </tr>\n",
       "    <tr>\n",
       "      <th>4</th>\n",
       "      <td>4</td>\n",
       "      <td>49529</td>\n",
       "      <td>John Carter</td>\n",
       "      <td>Action$Adventure$Science Fiction</td>\n",
       "      <td>2012</td>\n",
       "      <td>43.926995</td>\n",
       "    </tr>\n",
       "  </tbody>\n",
       "</table>\n",
       "</div>"
      ],
      "text/plain": [
       "   index  movie_id                                     title  \\\n",
       "0      0     19995                                    Avatar   \n",
       "1      1       285  Pirates of the Caribbean: At World's End   \n",
       "2      2    206647                                   Spectre   \n",
       "3      3     49026                     The Dark Knight Rises   \n",
       "4      4     49529                               John Carter   \n",
       "\n",
       "                                     genres release_date  popularity  \n",
       "0  Action$Adventure$Fantasy$Science Fiction         2009  150.437577  \n",
       "1                  Adventure$Fantasy$Action         2007  139.082615  \n",
       "2                    Action$Adventure$Crime         2015  107.376788  \n",
       "3               Action$Crime$Drama$Thriller         2012  112.312950  \n",
       "4          Action$Adventure$Science Fiction         2012   43.926995  "
      ]
     },
     "execution_count": 52,
     "metadata": {},
     "output_type": "execute_result"
    }
   ],
   "source": [
    "popular.head()"
   ]
  },
  {
   "cell_type": "code",
   "execution_count": 53,
   "id": "9da921de",
   "metadata": {},
   "outputs": [
    {
     "data": {
      "text/plain": [
       "4808"
      ]
     },
     "execution_count": 53,
     "metadata": {},
     "output_type": "execute_result"
    }
   ],
   "source": [
    "popular.to_sql('popular', engine)"
   ]
  },
  {
   "cell_type": "code",
   "execution_count": null,
   "id": "4f5e18cb",
   "metadata": {},
   "outputs": [],
   "source": [
    "dataset = pickle.load(open('./model/data/dataset.pkl', 'rb'))"
   ]
  },
  {
   "cell_type": "code",
   "execution_count": 17,
   "id": "fd43d6f5",
   "metadata": {},
   "outputs": [],
   "source": [
    "movies = pd.DataFrame(dataset, columns= ['movie_id', 'title', 'tagline', 'overview', 'genres', 'keywords', 'cast', 'crew', 'popularity', 'release_date','poster_path'])"
   ]
  },
  {
   "cell_type": "code",
   "execution_count": null,
   "id": "5c83e499",
   "metadata": {},
   "outputs": [],
   "source": [
    "movies.insert(0, 'index', L)"
   ]
  },
  {
   "cell_type": "code",
   "execution_count": null,
   "id": "aedbfa11",
   "metadata": {},
   "outputs": [],
   "source": [
    "movies['genres'] = movies['genres'].apply(lambda x: \"$\".join(x))"
   ]
  },
  {
   "cell_type": "code",
   "execution_count": null,
   "id": "5041f7f0",
   "metadata": {},
   "outputs": [],
   "source": [
    "movies['keywords'] = movies['keywords'].apply(lambda x: \"$\".join(x))"
   ]
  },
  {
   "cell_type": "code",
   "execution_count": null,
   "id": "ae933f0d",
   "metadata": {},
   "outputs": [],
   "source": [
    "movies['cast'] = movies['cast'].apply(lambda x: \"$\".join(x))"
   ]
  },
  {
   "cell_type": "code",
   "execution_count": null,
   "id": "384955bd",
   "metadata": {},
   "outputs": [],
   "source": [
    "movies['crew'] = movies['crew'].apply(lambda x: \"$\".join(x))"
   ]
  },
  {
   "cell_type": "code",
   "execution_count": 16,
   "id": "20850559",
   "metadata": {},
   "outputs": [],
   "source": [
    "movies.head()"
   ]
  },
  {
   "cell_type": "code",
   "execution_count": null,
   "id": "5e33a314",
   "metadata": {},
   "outputs": [],
   "source": [
    "movies.to_sql('movies', engine)"
   ]
  },
  {
   "cell_type": "code",
   "execution_count": null,
   "id": "846d34c5",
   "metadata": {},
   "outputs": [],
   "source": []
  }
 ],
 "metadata": {
  "kernelspec": {
   "display_name": "Python 3 (ipykernel)",
   "language": "python",
   "name": "python3"
  },
  "language_info": {
   "codemirror_mode": {
    "name": "ipython",
    "version": 3
   },
   "file_extension": ".py",
   "mimetype": "text/x-python",
   "name": "python",
   "nbconvert_exporter": "python",
   "pygments_lexer": "ipython3",
   "version": "3.10.2"
  }
 },
 "nbformat": 4,
 "nbformat_minor": 5
}

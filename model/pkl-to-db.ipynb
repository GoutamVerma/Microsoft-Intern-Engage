{
 "cells": [
  {
   "cell_type": "code",
   "execution_count": 1,
   "id": "507d0a54",
   "metadata": {},
   "outputs": [],
   "source": [
    "import sqlite3\n",
    "import pandas as pd\n",
    "import sqlalchemy\n",
    "import pickle"
   ]
  },
  {
   "cell_type": "code",
   "execution_count": 2,
   "id": "1aa4aa05",
   "metadata": {},
   "outputs": [],
   "source": [
    "engine = sqlalchemy.create_engine('sqlite:///choice.sqlite')"
   ]
  },
  {
   "cell_type": "code",
   "execution_count": 3,
   "id": "5425b8f3",
   "metadata": {},
   "outputs": [],
   "source": [
    "choice = pickle.load(open('./data/choice.pkl', 'rb'))"
   ]
  },
  {
   "cell_type": "code",
   "execution_count": 4,
   "id": "af505a5c",
   "metadata": {},
   "outputs": [],
   "source": [
    "choice = pd.DataFrame(choice, columns= ['movie_id','title','genres','cast','popularity'])"
   ]
  },
  {
   "cell_type": "code",
   "execution_count": 5,
   "id": "2d032376",
   "metadata": {},
   "outputs": [],
   "source": [
    "choice['genres'] = choice['genres'].apply(lambda x: \"$\".join(x))"
   ]
  },
  {
   "cell_type": "code",
   "execution_count": 6,
   "id": "8d1cdf93",
   "metadata": {},
   "outputs": [],
   "source": [
    "choice['cast'] = choice['cast'].apply(lambda x: \"$\".join(x))"
   ]
  },
  {
   "cell_type": "code",
   "execution_count": 7,
   "id": "32162403",
   "metadata": {},
   "outputs": [
    {
     "data": {
      "text/html": [
       "<div>\n",
       "<style scoped>\n",
       "    .dataframe tbody tr th:only-of-type {\n",
       "        vertical-align: middle;\n",
       "    }\n",
       "\n",
       "    .dataframe tbody tr th {\n",
       "        vertical-align: top;\n",
       "    }\n",
       "\n",
       "    .dataframe thead th {\n",
       "        text-align: right;\n",
       "    }\n",
       "</style>\n",
       "<table border=\"1\" class=\"dataframe\">\n",
       "  <thead>\n",
       "    <tr style=\"text-align: right;\">\n",
       "      <th></th>\n",
       "      <th>movie_id</th>\n",
       "      <th>title</th>\n",
       "      <th>genres</th>\n",
       "      <th>cast</th>\n",
       "      <th>popularity</th>\n",
       "    </tr>\n",
       "  </thead>\n",
       "  <tbody>\n",
       "    <tr>\n",
       "      <th>546</th>\n",
       "      <td>211672</td>\n",
       "      <td>Minions</td>\n",
       "      <td>Family$Animation$Adventure$Comedy</td>\n",
       "      <td>Sandra Bullock$Jon Hamm$Michael Keaton$Allison...</td>\n",
       "      <td>875.581305</td>\n",
       "    </tr>\n",
       "    <tr>\n",
       "      <th>95</th>\n",
       "      <td>157336</td>\n",
       "      <td>Interstellar</td>\n",
       "      <td>Adventure$Drama$Science Fiction</td>\n",
       "      <td>Matthew McConaughey$Jessica Chastain$Anne Hath...</td>\n",
       "      <td>724.247784</td>\n",
       "    </tr>\n",
       "    <tr>\n",
       "      <th>788</th>\n",
       "      <td>293660</td>\n",
       "      <td>Deadpool</td>\n",
       "      <td>Action$Adventure$Comedy</td>\n",
       "      <td>Ryan Reynolds$Morena Baccarin$Ed Skrein$T.J. M...</td>\n",
       "      <td>514.569956</td>\n",
       "    </tr>\n",
       "    <tr>\n",
       "      <th>94</th>\n",
       "      <td>118340</td>\n",
       "      <td>Guardians of the Galaxy</td>\n",
       "      <td>Action$Science Fiction$Adventure</td>\n",
       "      <td>Chris Pratt$Zoe Saldana$Dave Bautista$Vin Diesel</td>\n",
       "      <td>481.098624</td>\n",
       "    </tr>\n",
       "    <tr>\n",
       "      <th>127</th>\n",
       "      <td>76341</td>\n",
       "      <td>Mad Max: Fury Road</td>\n",
       "      <td>Action$Adventure$Science Fiction$Thriller</td>\n",
       "      <td>Tom Hardy$Charlize Theron$Nicholas Hoult$Hugh ...</td>\n",
       "      <td>434.278564</td>\n",
       "    </tr>\n",
       "  </tbody>\n",
       "</table>\n",
       "</div>"
      ],
      "text/plain": [
       "     movie_id                    title  \\\n",
       "546    211672                  Minions   \n",
       "95     157336             Interstellar   \n",
       "788    293660                 Deadpool   \n",
       "94     118340  Guardians of the Galaxy   \n",
       "127     76341       Mad Max: Fury Road   \n",
       "\n",
       "                                        genres  \\\n",
       "546          Family$Animation$Adventure$Comedy   \n",
       "95             Adventure$Drama$Science Fiction   \n",
       "788                    Action$Adventure$Comedy   \n",
       "94            Action$Science Fiction$Adventure   \n",
       "127  Action$Adventure$Science Fiction$Thriller   \n",
       "\n",
       "                                                  cast  popularity  \n",
       "546  Sandra Bullock$Jon Hamm$Michael Keaton$Allison...  875.581305  \n",
       "95   Matthew McConaughey$Jessica Chastain$Anne Hath...  724.247784  \n",
       "788  Ryan Reynolds$Morena Baccarin$Ed Skrein$T.J. M...  514.569956  \n",
       "94    Chris Pratt$Zoe Saldana$Dave Bautista$Vin Diesel  481.098624  \n",
       "127  Tom Hardy$Charlize Theron$Nicholas Hoult$Hugh ...  434.278564  "
      ]
     },
     "execution_count": 7,
     "metadata": {},
     "output_type": "execute_result"
    }
   ],
   "source": [
    "choice.head()"
   ]
  },
  {
   "cell_type": "code",
   "execution_count": 9,
   "id": "5f0c3236",
   "metadata": {},
   "outputs": [
    {
     "data": {
      "text/plain": [
       "4808"
      ]
     },
     "execution_count": 9,
     "metadata": {},
     "output_type": "execute_result"
    }
   ],
   "source": [
    "choice.to_sql('choice', engine)"
   ]
  },
  {
   "cell_type": "code",
   "execution_count": null,
   "id": "3b566a95",
   "metadata": {},
   "outputs": [],
   "source": [
    "engine = sqlalchemy.create_engine('sqlite:///popular.sqlite')"
   ]
  },
  {
   "cell_type": "code",
   "execution_count": 3,
   "id": "f9fe5995",
   "metadata": {},
   "outputs": [],
   "source": [
    "popular = pickle.load(open('./data/popular.pkl', 'rb'))"
   ]
  },
  {
   "cell_type": "code",
   "execution_count": 4,
   "id": "0f3b2309",
   "metadata": {},
   "outputs": [],
   "source": [
    "popular = pd.DataFrame(popular, columns= ['movie_id','title','genres','release_date','popularity'])"
   ]
  },
  {
   "cell_type": "code",
   "execution_count": 5,
   "id": "217c20b5",
   "metadata": {},
   "outputs": [],
   "source": [
    "popular['genres'] = popular['genres'].apply(lambda x: \"$\".join(x))"
   ]
  },
  {
   "cell_type": "code",
   "execution_count": 6,
   "id": "97a724f4",
   "metadata": {},
   "outputs": [
    {
     "data": {
      "text/html": [
       "<div>\n",
       "<style scoped>\n",
       "    .dataframe tbody tr th:only-of-type {\n",
       "        vertical-align: middle;\n",
       "    }\n",
       "\n",
       "    .dataframe tbody tr th {\n",
       "        vertical-align: top;\n",
       "    }\n",
       "\n",
       "    .dataframe thead th {\n",
       "        text-align: right;\n",
       "    }\n",
       "</style>\n",
       "<table border=\"1\" class=\"dataframe\">\n",
       "  <thead>\n",
       "    <tr style=\"text-align: right;\">\n",
       "      <th></th>\n",
       "      <th>movie_id</th>\n",
       "      <th>title</th>\n",
       "      <th>genres</th>\n",
       "      <th>release_date</th>\n",
       "      <th>popularity</th>\n",
       "    </tr>\n",
       "  </thead>\n",
       "  <tbody>\n",
       "    <tr>\n",
       "      <th>546</th>\n",
       "      <td>211672</td>\n",
       "      <td>Minions</td>\n",
       "      <td>Family$Animation$Adventure$Comedy</td>\n",
       "      <td>2015</td>\n",
       "      <td>875.581305</td>\n",
       "    </tr>\n",
       "    <tr>\n",
       "      <th>95</th>\n",
       "      <td>157336</td>\n",
       "      <td>Interstellar</td>\n",
       "      <td>Adventure$Drama$Science Fiction</td>\n",
       "      <td>2014</td>\n",
       "      <td>724.247784</td>\n",
       "    </tr>\n",
       "    <tr>\n",
       "      <th>788</th>\n",
       "      <td>293660</td>\n",
       "      <td>Deadpool</td>\n",
       "      <td>Action$Adventure$Comedy</td>\n",
       "      <td>2016</td>\n",
       "      <td>514.569956</td>\n",
       "    </tr>\n",
       "    <tr>\n",
       "      <th>94</th>\n",
       "      <td>118340</td>\n",
       "      <td>Guardians of the Galaxy</td>\n",
       "      <td>Action$Science Fiction$Adventure</td>\n",
       "      <td>2014</td>\n",
       "      <td>481.098624</td>\n",
       "    </tr>\n",
       "    <tr>\n",
       "      <th>127</th>\n",
       "      <td>76341</td>\n",
       "      <td>Mad Max: Fury Road</td>\n",
       "      <td>Action$Adventure$Science Fiction$Thriller</td>\n",
       "      <td>2015</td>\n",
       "      <td>434.278564</td>\n",
       "    </tr>\n",
       "  </tbody>\n",
       "</table>\n",
       "</div>"
      ],
      "text/plain": [
       "     movie_id                    title  \\\n",
       "546    211672                  Minions   \n",
       "95     157336             Interstellar   \n",
       "788    293660                 Deadpool   \n",
       "94     118340  Guardians of the Galaxy   \n",
       "127     76341       Mad Max: Fury Road   \n",
       "\n",
       "                                        genres release_date  popularity  \n",
       "546          Family$Animation$Adventure$Comedy         2015  875.581305  \n",
       "95             Adventure$Drama$Science Fiction         2014  724.247784  \n",
       "788                    Action$Adventure$Comedy         2016  514.569956  \n",
       "94            Action$Science Fiction$Adventure         2014  481.098624  \n",
       "127  Action$Adventure$Science Fiction$Thriller         2015  434.278564  "
      ]
     },
     "execution_count": 6,
     "metadata": {},
     "output_type": "execute_result"
    }
   ],
   "source": [
    "popular.head()"
   ]
  },
  {
   "cell_type": "code",
   "execution_count": 7,
   "id": "9da921de",
   "metadata": {},
   "outputs": [
    {
     "data": {
      "text/plain": [
       "4808"
      ]
     },
     "execution_count": 7,
     "metadata": {},
     "output_type": "execute_result"
    }
   ],
   "source": [
    "popular.to_sql('popular', engine)"
   ]
  },
  {
   "cell_type": "code",
   "execution_count": null,
   "id": "ae242bc2",
   "metadata": {},
   "outputs": [],
   "source": [
    "engine = sqlalchemy.create_engine('sqlite:///movies.sqlite')"
   ]
  },
  {
   "cell_type": "code",
   "execution_count": null,
   "id": "4f5e18cb",
   "metadata": {},
   "outputs": [],
   "source": [
    "movies = pickle.load(open('./data/dataset.pkl', 'rb'))"
   ]
  },
  {
   "cell_type": "code",
   "execution_count": 17,
   "id": "fd43d6f5",
   "metadata": {},
   "outputs": [],
   "source": [
    "movies = pd.DataFrame(movies, columns= ['movie_id', 'title', 'tagline', 'overview', 'genres', 'keywords', 'cast', 'crew', 'popularity', 'release_date','poster_path'])"
   ]
  },
  {
   "cell_type": "code",
   "execution_count": null,
   "id": "aedbfa11",
   "metadata": {},
   "outputs": [],
   "source": [
    "movies['genres'] = movies['genres'].apply(lambda x: \"$\".join(x))"
   ]
  },
  {
   "cell_type": "code",
   "execution_count": null,
   "id": "5041f7f0",
   "metadata": {},
   "outputs": [],
   "source": [
    "movies['keywords'] = movies['keywords'].apply(lambda x: \"$\".join(x))"
   ]
  },
  {
   "cell_type": "code",
   "execution_count": null,
   "id": "ae933f0d",
   "metadata": {},
   "outputs": [],
   "source": [
    "movies['cast'] = movies['cast'].apply(lambda x: \"$\".join(x))"
   ]
  },
  {
   "cell_type": "code",
   "execution_count": null,
   "id": "384955bd",
   "metadata": {},
   "outputs": [],
   "source": [
    "movies['crew'] = movies['crew'].apply(lambda x: \"$\".join(x))"
   ]
  },
  {
   "cell_type": "code",
   "execution_count": 16,
   "id": "20850559",
   "metadata": {},
   "outputs": [],
   "source": [
    "movies.head()"
   ]
  },
  {
   "cell_type": "code",
   "execution_count": null,
   "id": "5e33a314",
   "metadata": {},
   "outputs": [],
   "source": [
    "movies.to_sql('movies', engine)"
   ]
  },
  {
   "cell_type": "code",
   "execution_count": null,
   "id": "846d34c5",
   "metadata": {},
   "outputs": [],
   "source": []
  }
 ],
 "metadata": {
  "kernelspec": {
   "display_name": "Python 3 (ipykernel)",
   "language": "python",
   "name": "python3"
  },
  "language_info": {
   "codemirror_mode": {
    "name": "ipython",
    "version": 3
   },
   "file_extension": ".py",
   "mimetype": "text/x-python",
   "name": "python",
   "nbconvert_exporter": "python",
   "pygments_lexer": "ipython3",
   "version": "3.10.2"
  }
 },
 "nbformat": 4,
 "nbformat_minor": 5
}
